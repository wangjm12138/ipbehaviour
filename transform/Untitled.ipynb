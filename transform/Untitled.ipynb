{
 "cells": [
  {
   "cell_type": "code",
   "execution_count": 1,
   "metadata": {},
   "outputs": [
    {
     "name": "stderr",
     "output_type": "stream",
     "text": [
      "2019-12-25 15:37:53 I IPhan search_userip   \"Config file read error!will use default configuration\"\n",
      "2019-12-25 15:37:53 I IPhan search_userip   \"From ipbehaviour.db couldip:220.243.178.85\"\n",
      "2019-12-25 15:37:53 I IPhan search_userip   \"From https://172.16.17.87:8001/rms/is/opsReq/getCustomerIpReportList search:1.1.1.1\"\n"
     ]
    },
    {
     "name": "stdout",
     "output_type": "stream",
     "text": [
      "Use configfile /home/wangjm2/my_project/transform/ipbehaviour.ini\n",
      "log/20191225.log\n",
      "11111111\n",
      "111111112\n"
     ]
    },
    {
     "data": {
      "text/plain": [
       "[{'ipint': 3706958421,\n",
       "  'ip': '220.243.178.85',\n",
       "  'status': 'ADD',\n",
       "  'customerOperateTime': '1545908414000',\n",
       "  'operator': 'hanzhongnews',\n",
       "  'reportTime': '1574213280503',\n",
       "  'dataCenter': 'beijing001',\n",
       "  'commodityName': '共享带宽(IP)',\n",
       "  'customerName': 'None',\n",
       "  'consoleAccount': 'hanzhongnews',\n",
       "  'isBackUp': '1',\n",
       "  'saleName': 'None',\n",
       "  'org': 'None',\n",
       "  'phone': 'None'}]"
      ]
     },
     "execution_count": 1,
     "metadata": {},
     "output_type": "execute_result"
    }
   ],
   "source": [
    "from datalib import IPHandle\n",
    "IPHandle.search_userip(ip=[\"1.1.1.1\",\"220.243.178.85\"])"
   ]
  },
  {
   "cell_type": "code",
   "execution_count": null,
   "metadata": {},
   "outputs": [],
   "source": []
  }
 ],
 "metadata": {
  "kernelspec": {
   "display_name": "Python py3.6",
   "language": "python",
   "name": "py3.6"
  },
  "language_info": {
   "codemirror_mode": {
    "name": "ipython",
    "version": 3
   },
   "file_extension": ".py",
   "mimetype": "text/x-python",
   "name": "python",
   "nbconvert_exporter": "python",
   "pygments_lexer": "ipython3",
   "version": "3.7.5"
  }
 },
 "nbformat": 4,
 "nbformat_minor": 2
}
